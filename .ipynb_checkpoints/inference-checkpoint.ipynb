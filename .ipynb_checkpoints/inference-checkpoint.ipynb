{
 "cells": [
  {
   "cell_type": "code",
   "execution_count": 1,
   "metadata": {},
   "outputs": [],
   "source": [
    "import os\n",
    "import cv2\n",
    "import timm\n",
    "import torch\n",
    "import random\n",
    "import numpy as np\n",
    "import ttach as tta\n",
    "import pandas as pd\n",
    "import torch.nn as nn\n",
    "import albumentations\n",
    "import albumentations.pytorch\n",
    "\n",
    "from glob import glob\n",
    "from tqdm.auto import tqdm\n",
    "from prettyprinter import cpprint\n",
    "from torch.utils.data import Dataset, DataLoader"
   ]
  },
  {
   "cell_type": "code",
   "execution_count": 2,
   "metadata": {},
   "outputs": [],
   "source": [
    "class TestDataset(Dataset):\n",
    "    def __init__(self, data_path='./test/0/', transform=None):\n",
    "        self.data_path = data_path\n",
    "        self.data = os.listdir(data_path)\n",
    "        self.transform = transform\n",
    "        \n",
    "    def __len__(self):\n",
    "        return len(self.data)\n",
    "\n",
    "    def __getitem__(self, idx):        \n",
    "        image_path = os.path.join(self.data_path, self.data[idx])\n",
    "        image = cv2.imread(image_path)\n",
    "        image = cv2.cvtColor(image, cv2.COLOR_BGR2RGB)\n",
    "        if self.transform:\n",
    "            image = self.transform(image=np.array(image))['image']\n",
    "            \n",
    "        return image"
   ]
  },
  {
   "cell_type": "code",
   "execution_count": 3,
   "metadata": {},
   "outputs": [],
   "source": [
    "SEED = 7777  \n",
    "BATCH_SIZE = 32    \n",
    "IMAGE_SIZE = 227\n",
    "MODEL_ARC = 'xception'\n",
    "NUM_CLASSES = 7\n",
    "MODEL_DIR = './results'\n",
    "NUM_FOLD = 5"
   ]
  },
  {
   "cell_type": "code",
   "execution_count": 4,
   "metadata": {},
   "outputs": [],
   "source": [
    "device = torch.device('cuda:0' if torch.cuda.is_available() else 'cpu')"
   ]
  },
  {
   "cell_type": "code",
   "execution_count": 5,
   "metadata": {},
   "outputs": [],
   "source": [
    "# Fix random seed\n",
    "def seed_everything(seed: int = 42):\n",
    "    random.seed(seed)\n",
    "    np.random.seed(seed)\n",
    "    os.environ[\"PYTHONHASHSEED\"] = str(seed)\n",
    "    torch.manual_seed(seed)\n",
    "    torch.cuda.manual_seed(seed)  # type: ignore\n",
    "    torch.backends.cudnn.deterministic = True  # type: ignore\n",
    "    torch.backends.cudnn.benchmark = True  # type: ignore"
   ]
  },
  {
   "cell_type": "code",
   "execution_count": 6,
   "metadata": {},
   "outputs": [],
   "source": [
    "seed_everything(SEED)"
   ]
  },
  {
   "cell_type": "code",
   "execution_count": 7,
   "metadata": {},
   "outputs": [],
   "source": [
    "test_transform = albumentations.Compose([               \n",
    "        albumentations.Resize(IMAGE_SIZE, IMAGE_SIZE),\n",
    "        albumentations.Normalize(mean=(0.4569, 0.5074, 0.5557), std=(0.2888, 0.2743, 0.2829)),\n",
    "        albumentations.pytorch.transforms.ToTensorV2()])"
   ]
  },
  {
   "cell_type": "code",
   "execution_count": 8,
   "metadata": {},
   "outputs": [],
   "source": [
    "test_dataset = TestDataset(transform=test_transform)\n",
    "test_loader = DataLoader(test_dataset, batch_size=BATCH_SIZE, shuffle=False)"
   ]
  },
  {
   "cell_type": "markdown",
   "metadata": {},
   "source": [
    "## Model"
   ]
  },
  {
   "cell_type": "code",
   "execution_count": 9,
   "metadata": {},
   "outputs": [],
   "source": [
    "class PretrainedModel(nn.Module):\n",
    "    def __init__(self, model_arc='swin_tiny_patch4_window7_224', num_classes=7):\n",
    "        super().__init__()\n",
    "        self.net = timm.create_model(model_arc, pretrained=False, num_classes=num_classes)\n",
    "    \n",
    "    def forward(self, x):\n",
    "        x = self.net(x)\n",
    "\n",
    "        return x"
   ]
  },
  {
   "cell_type": "code",
   "execution_count": 10,
   "metadata": {
    "tags": []
   },
   "outputs": [
    {
     "data": {
      "text/plain": [
       "PretrainedModel(\n",
       "  (net): NormFreeNet(\n",
       "    (stem): Sequential(\n",
       "      (conv1): ScaledStdConv2d(3, 16, kernel_size=(3, 3), stride=(2, 2), padding=(1, 1))\n",
       "      (act2): SiLU(inplace=True)\n",
       "      (conv2): ScaledStdConv2d(16, 32, kernel_size=(3, 3), stride=(1, 1), padding=(1, 1))\n",
       "      (act3): SiLU(inplace=True)\n",
       "      (conv3): ScaledStdConv2d(32, 64, kernel_size=(3, 3), stride=(1, 1), padding=(1, 1))\n",
       "      (act4): SiLU(inplace=True)\n",
       "      (conv4): ScaledStdConv2d(64, 128, kernel_size=(3, 3), stride=(2, 2), padding=(1, 1))\n",
       "    )\n",
       "    (stages): Sequential(\n",
       "      (0): Sequential(\n",
       "        (0): NormFreeBlock(\n",
       "          (downsample): DownsampleAvg(\n",
       "            (pool): Identity()\n",
       "            (conv): ScaledStdConv2d(128, 256, kernel_size=(1, 1), stride=(1, 1))\n",
       "          )\n",
       "          (act1): SiLU()\n",
       "          (conv1): ScaledStdConv2d(128, 64, kernel_size=(1, 1), stride=(1, 1))\n",
       "          (act2): SiLU(inplace=True)\n",
       "          (conv2): ScaledStdConv2d(64, 64, kernel_size=(3, 3), stride=(1, 1), padding=(1, 1))\n",
       "          (act2b): SiLU(inplace=True)\n",
       "          (conv2b): ScaledStdConv2d(64, 64, kernel_size=(3, 3), stride=(1, 1), padding=(1, 1))\n",
       "          (act3): SiLU()\n",
       "          (conv3): ScaledStdConv2d(64, 256, kernel_size=(1, 1), stride=(1, 1))\n",
       "          (attn_last): SEModule(\n",
       "            (fc1): Conv2d(256, 64, kernel_size=(1, 1), stride=(1, 1))\n",
       "            (act): ReLU(inplace=True)\n",
       "            (fc2): Conv2d(64, 256, kernel_size=(1, 1), stride=(1, 1))\n",
       "            (gate): Sigmoid()\n",
       "          )\n",
       "          (drop_path): Identity()\n",
       "        )\n",
       "      )\n",
       "      (1): Sequential(\n",
       "        (0): NormFreeBlock(\n",
       "          (downsample): DownsampleAvg(\n",
       "            (pool): AvgPool2d(kernel_size=2, stride=2, padding=0)\n",
       "            (conv): ScaledStdConv2d(256, 512, kernel_size=(1, 1), stride=(1, 1))\n",
       "          )\n",
       "          (act1): SiLU()\n",
       "          (conv1): ScaledStdConv2d(256, 128, kernel_size=(1, 1), stride=(1, 1))\n",
       "          (act2): SiLU(inplace=True)\n",
       "          (conv2): ScaledStdConv2d(128, 128, kernel_size=(3, 3), stride=(2, 2), padding=(1, 1), groups=2)\n",
       "          (act2b): SiLU(inplace=True)\n",
       "          (conv2b): ScaledStdConv2d(128, 128, kernel_size=(3, 3), stride=(1, 1), padding=(1, 1), groups=2)\n",
       "          (act3): SiLU()\n",
       "          (conv3): ScaledStdConv2d(128, 512, kernel_size=(1, 1), stride=(1, 1))\n",
       "          (attn_last): SEModule(\n",
       "            (fc1): Conv2d(512, 128, kernel_size=(1, 1), stride=(1, 1))\n",
       "            (act): ReLU(inplace=True)\n",
       "            (fc2): Conv2d(128, 512, kernel_size=(1, 1), stride=(1, 1))\n",
       "            (gate): Sigmoid()\n",
       "          )\n",
       "          (drop_path): Identity()\n",
       "        )\n",
       "        (1): NormFreeBlock(\n",
       "          (act1): SiLU()\n",
       "          (conv1): ScaledStdConv2d(512, 128, kernel_size=(1, 1), stride=(1, 1))\n",
       "          (act2): SiLU(inplace=True)\n",
       "          (conv2): ScaledStdConv2d(128, 128, kernel_size=(3, 3), stride=(1, 1), padding=(1, 1), groups=2)\n",
       "          (act2b): SiLU(inplace=True)\n",
       "          (conv2b): ScaledStdConv2d(128, 128, kernel_size=(3, 3), stride=(1, 1), padding=(1, 1), groups=2)\n",
       "          (act3): SiLU()\n",
       "          (conv3): ScaledStdConv2d(128, 512, kernel_size=(1, 1), stride=(1, 1))\n",
       "          (attn_last): SEModule(\n",
       "            (fc1): Conv2d(512, 128, kernel_size=(1, 1), stride=(1, 1))\n",
       "            (act): ReLU(inplace=True)\n",
       "            (fc2): Conv2d(128, 512, kernel_size=(1, 1), stride=(1, 1))\n",
       "            (gate): Sigmoid()\n",
       "          )\n",
       "          (drop_path): Identity()\n",
       "        )\n",
       "      )\n",
       "      (2): Sequential(\n",
       "        (0): NormFreeBlock(\n",
       "          (downsample): DownsampleAvg(\n",
       "            (pool): AvgPool2d(kernel_size=2, stride=2, padding=0)\n",
       "            (conv): ScaledStdConv2d(512, 1536, kernel_size=(1, 1), stride=(1, 1))\n",
       "          )\n",
       "          (act1): SiLU()\n",
       "          (conv1): ScaledStdConv2d(512, 384, kernel_size=(1, 1), stride=(1, 1))\n",
       "          (act2): SiLU(inplace=True)\n",
       "          (conv2): ScaledStdConv2d(384, 384, kernel_size=(3, 3), stride=(2, 2), padding=(1, 1), groups=6)\n",
       "          (act2b): SiLU(inplace=True)\n",
       "          (conv2b): ScaledStdConv2d(384, 384, kernel_size=(3, 3), stride=(1, 1), padding=(1, 1), groups=6)\n",
       "          (act3): SiLU()\n",
       "          (conv3): ScaledStdConv2d(384, 1536, kernel_size=(1, 1), stride=(1, 1))\n",
       "          (attn_last): SEModule(\n",
       "            (fc1): Conv2d(1536, 384, kernel_size=(1, 1), stride=(1, 1))\n",
       "            (act): ReLU(inplace=True)\n",
       "            (fc2): Conv2d(384, 1536, kernel_size=(1, 1), stride=(1, 1))\n",
       "            (gate): Sigmoid()\n",
       "          )\n",
       "          (drop_path): Identity()\n",
       "        )\n",
       "        (1): NormFreeBlock(\n",
       "          (act1): SiLU()\n",
       "          (conv1): ScaledStdConv2d(1536, 384, kernel_size=(1, 1), stride=(1, 1))\n",
       "          (act2): SiLU(inplace=True)\n",
       "          (conv2): ScaledStdConv2d(384, 384, kernel_size=(3, 3), stride=(1, 1), padding=(1, 1), groups=6)\n",
       "          (act2b): SiLU(inplace=True)\n",
       "          (conv2b): ScaledStdConv2d(384, 384, kernel_size=(3, 3), stride=(1, 1), padding=(1, 1), groups=6)\n",
       "          (act3): SiLU()\n",
       "          (conv3): ScaledStdConv2d(384, 1536, kernel_size=(1, 1), stride=(1, 1))\n",
       "          (attn_last): SEModule(\n",
       "            (fc1): Conv2d(1536, 384, kernel_size=(1, 1), stride=(1, 1))\n",
       "            (act): ReLU(inplace=True)\n",
       "            (fc2): Conv2d(384, 1536, kernel_size=(1, 1), stride=(1, 1))\n",
       "            (gate): Sigmoid()\n",
       "          )\n",
       "          (drop_path): Identity()\n",
       "        )\n",
       "        (2): NormFreeBlock(\n",
       "          (act1): SiLU()\n",
       "          (conv1): ScaledStdConv2d(1536, 384, kernel_size=(1, 1), stride=(1, 1))\n",
       "          (act2): SiLU(inplace=True)\n",
       "          (conv2): ScaledStdConv2d(384, 384, kernel_size=(3, 3), stride=(1, 1), padding=(1, 1), groups=6)\n",
       "          (act2b): SiLU(inplace=True)\n",
       "          (conv2b): ScaledStdConv2d(384, 384, kernel_size=(3, 3), stride=(1, 1), padding=(1, 1), groups=6)\n",
       "          (act3): SiLU()\n",
       "          (conv3): ScaledStdConv2d(384, 1536, kernel_size=(1, 1), stride=(1, 1))\n",
       "          (attn_last): SEModule(\n",
       "            (fc1): Conv2d(1536, 384, kernel_size=(1, 1), stride=(1, 1))\n",
       "            (act): ReLU(inplace=True)\n",
       "            (fc2): Conv2d(384, 1536, kernel_size=(1, 1), stride=(1, 1))\n",
       "            (gate): Sigmoid()\n",
       "          )\n",
       "          (drop_path): Identity()\n",
       "        )\n",
       "        (3): NormFreeBlock(\n",
       "          (act1): SiLU()\n",
       "          (conv1): ScaledStdConv2d(1536, 384, kernel_size=(1, 1), stride=(1, 1))\n",
       "          (act2): SiLU(inplace=True)\n",
       "          (conv2): ScaledStdConv2d(384, 384, kernel_size=(3, 3), stride=(1, 1), padding=(1, 1), groups=6)\n",
       "          (act2b): SiLU(inplace=True)\n",
       "          (conv2b): ScaledStdConv2d(384, 384, kernel_size=(3, 3), stride=(1, 1), padding=(1, 1), groups=6)\n",
       "          (act3): SiLU()\n",
       "          (conv3): ScaledStdConv2d(384, 1536, kernel_size=(1, 1), stride=(1, 1))\n",
       "          (attn_last): SEModule(\n",
       "            (fc1): Conv2d(1536, 384, kernel_size=(1, 1), stride=(1, 1))\n",
       "            (act): ReLU(inplace=True)\n",
       "            (fc2): Conv2d(384, 1536, kernel_size=(1, 1), stride=(1, 1))\n",
       "            (gate): Sigmoid()\n",
       "          )\n",
       "          (drop_path): Identity()\n",
       "        )\n",
       "        (4): NormFreeBlock(\n",
       "          (act1): SiLU()\n",
       "          (conv1): ScaledStdConv2d(1536, 384, kernel_size=(1, 1), stride=(1, 1))\n",
       "          (act2): SiLU(inplace=True)\n",
       "          (conv2): ScaledStdConv2d(384, 384, kernel_size=(3, 3), stride=(1, 1), padding=(1, 1), groups=6)\n",
       "          (act2b): SiLU(inplace=True)\n",
       "          (conv2b): ScaledStdConv2d(384, 384, kernel_size=(3, 3), stride=(1, 1), padding=(1, 1), groups=6)\n",
       "          (act3): SiLU()\n",
       "          (conv3): ScaledStdConv2d(384, 1536, kernel_size=(1, 1), stride=(1, 1))\n",
       "          (attn_last): SEModule(\n",
       "            (fc1): Conv2d(1536, 384, kernel_size=(1, 1), stride=(1, 1))\n",
       "            (act): ReLU(inplace=True)\n",
       "            (fc2): Conv2d(384, 1536, kernel_size=(1, 1), stride=(1, 1))\n",
       "            (gate): Sigmoid()\n",
       "          )\n",
       "          (drop_path): Identity()\n",
       "        )\n",
       "        (5): NormFreeBlock(\n",
       "          (act1): SiLU()\n",
       "          (conv1): ScaledStdConv2d(1536, 384, kernel_size=(1, 1), stride=(1, 1))\n",
       "          (act2): SiLU(inplace=True)\n",
       "          (conv2): ScaledStdConv2d(384, 384, kernel_size=(3, 3), stride=(1, 1), padding=(1, 1), groups=6)\n",
       "          (act2b): SiLU(inplace=True)\n",
       "          (conv2b): ScaledStdConv2d(384, 384, kernel_size=(3, 3), stride=(1, 1), padding=(1, 1), groups=6)\n",
       "          (act3): SiLU()\n",
       "          (conv3): ScaledStdConv2d(384, 1536, kernel_size=(1, 1), stride=(1, 1))\n",
       "          (attn_last): SEModule(\n",
       "            (fc1): Conv2d(1536, 384, kernel_size=(1, 1), stride=(1, 1))\n",
       "            (act): ReLU(inplace=True)\n",
       "            (fc2): Conv2d(384, 1536, kernel_size=(1, 1), stride=(1, 1))\n",
       "            (gate): Sigmoid()\n",
       "          )\n",
       "          (drop_path): Identity()\n",
       "        )\n",
       "      )\n",
       "      (3): Sequential(\n",
       "        (0): NormFreeBlock(\n",
       "          (downsample): DownsampleAvg(\n",
       "            (pool): AvgPool2d(kernel_size=2, stride=2, padding=0)\n",
       "            (conv): ScaledStdConv2d(1536, 1536, kernel_size=(1, 1), stride=(1, 1))\n",
       "          )\n",
       "          (act1): SiLU()\n",
       "          (conv1): ScaledStdConv2d(1536, 384, kernel_size=(1, 1), stride=(1, 1))\n",
       "          (act2): SiLU(inplace=True)\n",
       "          (conv2): ScaledStdConv2d(384, 384, kernel_size=(3, 3), stride=(2, 2), padding=(1, 1), groups=6)\n",
       "          (act2b): SiLU(inplace=True)\n",
       "          (conv2b): ScaledStdConv2d(384, 384, kernel_size=(3, 3), stride=(1, 1), padding=(1, 1), groups=6)\n",
       "          (act3): SiLU()\n",
       "          (conv3): ScaledStdConv2d(384, 1536, kernel_size=(1, 1), stride=(1, 1))\n",
       "          (attn_last): SEModule(\n",
       "            (fc1): Conv2d(1536, 384, kernel_size=(1, 1), stride=(1, 1))\n",
       "            (act): ReLU(inplace=True)\n",
       "            (fc2): Conv2d(384, 1536, kernel_size=(1, 1), stride=(1, 1))\n",
       "            (gate): Sigmoid()\n",
       "          )\n",
       "          (drop_path): Identity()\n",
       "        )\n",
       "        (1): NormFreeBlock(\n",
       "          (act1): SiLU()\n",
       "          (conv1): ScaledStdConv2d(1536, 384, kernel_size=(1, 1), stride=(1, 1))\n",
       "          (act2): SiLU(inplace=True)\n",
       "          (conv2): ScaledStdConv2d(384, 384, kernel_size=(3, 3), stride=(1, 1), padding=(1, 1), groups=6)\n",
       "          (act2b): SiLU(inplace=True)\n",
       "          (conv2b): ScaledStdConv2d(384, 384, kernel_size=(3, 3), stride=(1, 1), padding=(1, 1), groups=6)\n",
       "          (act3): SiLU()\n",
       "          (conv3): ScaledStdConv2d(384, 1536, kernel_size=(1, 1), stride=(1, 1))\n",
       "          (attn_last): SEModule(\n",
       "            (fc1): Conv2d(1536, 384, kernel_size=(1, 1), stride=(1, 1))\n",
       "            (act): ReLU(inplace=True)\n",
       "            (fc2): Conv2d(384, 1536, kernel_size=(1, 1), stride=(1, 1))\n",
       "            (gate): Sigmoid()\n",
       "          )\n",
       "          (drop_path): Identity()\n",
       "        )\n",
       "        (2): NormFreeBlock(\n",
       "          (act1): SiLU()\n",
       "          (conv1): ScaledStdConv2d(1536, 384, kernel_size=(1, 1), stride=(1, 1))\n",
       "          (act2): SiLU(inplace=True)\n",
       "          (conv2): ScaledStdConv2d(384, 384, kernel_size=(3, 3), stride=(1, 1), padding=(1, 1), groups=6)\n",
       "          (act2b): SiLU(inplace=True)\n",
       "          (conv2b): ScaledStdConv2d(384, 384, kernel_size=(3, 3), stride=(1, 1), padding=(1, 1), groups=6)\n",
       "          (act3): SiLU()\n",
       "          (conv3): ScaledStdConv2d(384, 1536, kernel_size=(1, 1), stride=(1, 1))\n",
       "          (attn_last): SEModule(\n",
       "            (fc1): Conv2d(1536, 384, kernel_size=(1, 1), stride=(1, 1))\n",
       "            (act): ReLU(inplace=True)\n",
       "            (fc2): Conv2d(384, 1536, kernel_size=(1, 1), stride=(1, 1))\n",
       "            (gate): Sigmoid()\n",
       "          )\n",
       "          (drop_path): Identity()\n",
       "        )\n",
       "      )\n",
       "    )\n",
       "    (final_conv): ScaledStdConv2d(1536, 2304, kernel_size=(1, 1), stride=(1, 1))\n",
       "    (final_act): SiLU(inplace=True)\n",
       "    (head): ClassifierHead(\n",
       "      (global_pool): SelectAdaptivePool2d (pool_type=avg, flatten=True)\n",
       "      (fc): Linear(in_features=2304, out_features=7, bias=True)\n",
       "    )\n",
       "  )\n",
       ")"
      ]
     },
     "execution_count": 10,
     "metadata": {},
     "output_type": "execute_result"
    }
   ],
   "source": [
    "model = PretrainedModel(model_arc=MODEL_ARC, num_classes=NUM_CLASSES)\n",
    "model.to(device)"
   ]
  },
  {
   "cell_type": "code",
   "execution_count": 11,
   "metadata": {
    "tags": []
   },
   "outputs": [],
   "source": [
    "states = [torch.load(glob(MODEL_DIR + f'/{MODEL_ARC}/{k}_fold/*.pth')[-1]) for k in range(1, NUM_FOLD + 1)]"
   ]
  },
  {
   "cell_type": "code",
   "execution_count": 12,
   "metadata": {
    "tags": []
   },
   "outputs": [],
   "source": [
    "transforms = tta.Compose(\n",
    "    [\n",
    "        tta.HorizontalFlip(),\n",
    "        # tta.VerticalFlip(),\n",
    "        # tta.Multiply(factors=[0.9, 1, 1.1])\n",
    "    ]\n",
    ")"
   ]
  },
  {
   "cell_type": "code",
   "execution_count": 13,
   "metadata": {},
   "outputs": [
    {
     "data": {
      "application/vnd.jupyter.widget-view+json": {
       "model_id": "cc7bdc42525840eab20120636e54f8bc",
       "version_major": 2,
       "version_minor": 0
      },
      "text/plain": [
       "  0%|          | 0/11 [00:00<?, ?it/s]"
      ]
     },
     "metadata": {},
     "output_type": "display_data"
    }
   ],
   "source": [
    "probs = []\n",
    "save_ = []\n",
    "for i, images in enumerate(tqdm(test_loader)):\n",
    "    images = images.to(device)\n",
    "    avg_preds = []\n",
    "    for state in states:\n",
    "        model.load_state_dict(state)\n",
    "        model.eval()\n",
    "        tta_model = tta.ClassificationTTAWrapper(model, transforms)\n",
    "        tta_model.to(device)\n",
    "        tta_model.eval()\n",
    "        with torch.no_grad():\n",
    "            logits = tta_model(images)\n",
    "        avg_preds.append(logits.to('cpu').numpy())\n",
    "    avg_preds = np.mean(avg_preds, axis=0)\n",
    "    save_.append(avg_preds)\n",
    "    probs.append(avg_preds.argmax(-1))\n",
    "save_ = np.concatenate(save_)\n",
    "probs = np.concatenate(probs)"
   ]
  },
  {
   "cell_type": "code",
   "execution_count": 14,
   "metadata": {},
   "outputs": [],
   "source": [
    "df = pd.read_csv('./test_answer_sample_.csv')"
   ]
  },
  {
   "cell_type": "code",
   "execution_count": 15,
   "metadata": {},
   "outputs": [
    {
     "data": {
      "text/plain": [
       "350"
      ]
     },
     "execution_count": 15,
     "metadata": {},
     "output_type": "execute_result"
    }
   ],
   "source": [
    "len(probs)"
   ]
  },
  {
   "cell_type": "code",
   "execution_count": 16,
   "metadata": {},
   "outputs": [
    {
     "data": {
      "text/plain": [
       "(350, 7)"
      ]
     },
     "execution_count": 16,
     "metadata": {},
     "output_type": "execute_result"
    }
   ],
   "source": [
    "save_.shape"
   ]
  },
  {
   "cell_type": "code",
   "execution_count": 17,
   "metadata": {},
   "outputs": [],
   "source": [
    "np.save(f'./{MODEL_ARC}.npy', save_)"
   ]
  },
  {
   "cell_type": "code",
   "execution_count": 18,
   "metadata": {},
   "outputs": [],
   "source": [
    "df['answer value'] = probs"
   ]
  },
  {
   "cell_type": "code",
   "execution_count": 19,
   "metadata": {},
   "outputs": [],
   "source": [
    "df.to_csv(f'submission_{MODEL_ARC}.csv', index=False)"
   ]
  }
 ],
 "metadata": {
  "colab": {
   "authorship_tag": "ABX9TyNHgfiaLWAfJXDLoBnx7ayu",
   "collapsed_sections": [],
   "name": "eda.ipynb",
   "provenance": [],
   "toc_visible": true
  },
  "kernelspec": {
   "display_name": "Python 3",
   "language": "python",
   "name": "python3"
  },
  "language_info": {
   "codemirror_mode": {
    "name": "ipython",
    "version": 3
   },
   "file_extension": ".py",
   "mimetype": "text/x-python",
   "name": "python",
   "nbconvert_exporter": "python",
   "pygments_lexer": "ipython3",
   "version": "3.9.1"
  }
 },
 "nbformat": 4,
 "nbformat_minor": 4
}
