{
 "cells": [
  {
   "cell_type": "markdown",
   "metadata": {
    "id": "fUSFecrByaog"
   },
   "source": [
    "## EDA"
   ]
  },
  {
   "cell_type": "code",
   "execution_count": 1,
   "metadata": {
    "executionInfo": {
     "elapsed": 249,
     "status": "ok",
     "timestamp": 1621733538934,
     "user": {
      "displayName": "김효진",
      "photoUrl": "",
      "userId": "06712056052855259710"
     },
     "user_tz": -540
    },
    "id": "zhw5D2ogzdRc"
   },
   "outputs": [],
   "source": [
    "import os\n",
    "import pandas as pd\n",
    "\n",
    "from glob import glob"
   ]
  },
  {
   "cell_type": "code",
   "execution_count": 2,
   "metadata": {
    "executionInfo": {
     "elapsed": 275,
     "status": "ok",
     "timestamp": 1621734288701,
     "user": {
      "displayName": "김효진",
      "photoUrl": "",
      "userId": "06712056052855259710"
     },
     "user_tz": -540
    },
    "id": "eNgy53n42fmb"
   },
   "outputs": [],
   "source": [
    "path = './train'"
   ]
  },
  {
   "cell_type": "code",
   "execution_count": 3,
   "metadata": {
    "colab": {
     "base_uri": "https://localhost:8080/"
    },
    "executionInfo": {
     "elapsed": 3,
     "status": "ok",
     "timestamp": 1621734291542,
     "user": {
      "displayName": "김효진",
      "photoUrl": "",
      "userId": "06712056052855259710"
     },
     "user_tz": -540
    },
    "id": "7ygX3TUS3E-R",
    "outputId": "017772a3-e28f-4ba8-b549-b50c6f89e85b"
   },
   "outputs": [
    {
     "data": {
      "text/plain": [
       "['dog',\n",
       " 'elephant',\n",
       " 'giraffe',\n",
       " 'guitar',\n",
       " 'horse',\n",
       " 'house',\n",
       " 'person',\n",
       " 'train.csv']"
      ]
     },
     "execution_count": 3,
     "metadata": {},
     "output_type": "execute_result"
    }
   ],
   "source": [
    "label_list = os.listdir(path)\n",
    "label_list"
   ]
  },
  {
   "cell_type": "code",
   "execution_count": 4,
   "metadata": {
    "executionInfo": {
     "elapsed": 317,
     "status": "ok",
     "timestamp": 1621734407040,
     "user": {
      "displayName": "김효진",
      "photoUrl": "",
      "userId": "06712056052855259710"
     },
     "user_tz": -540
    },
    "id": "X3Bk5R9A4wP5"
   },
   "outputs": [],
   "source": [
    "data = {\n",
    "    'image_id': [], \n",
    "    'label': []\n",
    "}"
   ]
  },
  {
   "cell_type": "code",
   "execution_count": 5,
   "metadata": {
    "executionInfo": {
     "elapsed": 1,
     "status": "ok",
     "timestamp": 1621734407872,
     "user": {
      "displayName": "김효진",
      "photoUrl": "",
      "userId": "06712056052855259710"
     },
     "user_tz": -540
    },
    "id": "W1x_CefV3ieW"
   },
   "outputs": [],
   "source": [
    "for i, v in enumerate(label_list):\n",
    "  file_list = glob(os.path.join(path, v) + '/*.jpg')\n",
    "  data['image_id'].extend(file_list)\n",
    "  data['label'].extend([i for _ in range(len(file_list))])"
   ]
  },
  {
   "cell_type": "code",
   "execution_count": 6,
   "metadata": {
    "colab": {
     "base_uri": "https://localhost:8080/"
    },
    "executionInfo": {
     "elapsed": 263,
     "status": "ok",
     "timestamp": 1621734417799,
     "user": {
      "displayName": "김효진",
      "photoUrl": "",
      "userId": "06712056052855259710"
     },
     "user_tz": -540
    },
    "id": "02UCK-SA5TNZ",
    "outputId": "2fa16fc8-e2bc-4033-d59e-610450bd8cc8"
   },
   "outputs": [
    {
     "name": "stdout",
     "output_type": "stream",
     "text": [
      "1698\n",
      "1698\n"
     ]
    }
   ],
   "source": [
    "print(len(data['image_id']))\n",
    "print(len(data['label']))"
   ]
  },
  {
   "cell_type": "code",
   "execution_count": 7,
   "metadata": {
    "colab": {
     "base_uri": "https://localhost:8080/",
     "height": 204
    },
    "executionInfo": {
     "elapsed": 247,
     "status": "ok",
     "timestamp": 1621734446814,
     "user": {
      "displayName": "김효진",
      "photoUrl": "",
      "userId": "06712056052855259710"
     },
     "user_tz": -540
    },
    "id": "0OK1O-Ed5YkU",
    "outputId": "8b82e4f6-f614-4eb2-9ab5-f88ffa6066c9"
   },
   "outputs": [
    {
     "data": {
      "text/html": [
       "<div>\n",
       "<style scoped>\n",
       "    .dataframe tbody tr th:only-of-type {\n",
       "        vertical-align: middle;\n",
       "    }\n",
       "\n",
       "    .dataframe tbody tr th {\n",
       "        vertical-align: top;\n",
       "    }\n",
       "\n",
       "    .dataframe thead th {\n",
       "        text-align: right;\n",
       "    }\n",
       "</style>\n",
       "<table border=\"1\" class=\"dataframe\">\n",
       "  <thead>\n",
       "    <tr style=\"text-align: right;\">\n",
       "      <th></th>\n",
       "      <th>image_id</th>\n",
       "      <th>label</th>\n",
       "    </tr>\n",
       "  </thead>\n",
       "  <tbody>\n",
       "    <tr>\n",
       "      <th>0</th>\n",
       "      <td>./train\\dog\\pic_001.jpg</td>\n",
       "      <td>0</td>\n",
       "    </tr>\n",
       "    <tr>\n",
       "      <th>1</th>\n",
       "      <td>./train\\dog\\pic_002.jpg</td>\n",
       "      <td>0</td>\n",
       "    </tr>\n",
       "    <tr>\n",
       "      <th>2</th>\n",
       "      <td>./train\\dog\\pic_003.jpg</td>\n",
       "      <td>0</td>\n",
       "    </tr>\n",
       "    <tr>\n",
       "      <th>3</th>\n",
       "      <td>./train\\dog\\pic_004.jpg</td>\n",
       "      <td>0</td>\n",
       "    </tr>\n",
       "    <tr>\n",
       "      <th>4</th>\n",
       "      <td>./train\\dog\\pic_005.jpg</td>\n",
       "      <td>0</td>\n",
       "    </tr>\n",
       "  </tbody>\n",
       "</table>\n",
       "</div>"
      ],
      "text/plain": [
       "                  image_id  label\n",
       "0  ./train\\dog\\pic_001.jpg      0\n",
       "1  ./train\\dog\\pic_002.jpg      0\n",
       "2  ./train\\dog\\pic_003.jpg      0\n",
       "3  ./train\\dog\\pic_004.jpg      0\n",
       "4  ./train\\dog\\pic_005.jpg      0"
      ]
     },
     "execution_count": 7,
     "metadata": {},
     "output_type": "execute_result"
    }
   ],
   "source": [
    "train_df = pd.DataFrame(data)\n",
    "train_df.head(5)"
   ]
  },
  {
   "cell_type": "code",
   "execution_count": 8,
   "metadata": {
    "executionInfo": {
     "elapsed": 252,
     "status": "ok",
     "timestamp": 1621734539437,
     "user": {
      "displayName": "김효진",
      "photoUrl": "",
      "userId": "06712056052855259710"
     },
     "user_tz": -540
    },
    "id": "xAGVOus559RO"
   },
   "outputs": [],
   "source": [
    "train_df.to_csv(os.path.join(path, 'train.csv'), index=False)"
   ]
  },
  {
   "cell_type": "code",
   "execution_count": 9,
   "metadata": {
    "executionInfo": {
     "elapsed": 254,
     "status": "ok",
     "timestamp": 1621735482849,
     "user": {
      "displayName": "김효진",
      "photoUrl": "",
      "userId": "06712056052855259710"
     },
     "user_tz": -540
    },
    "id": "8_MQtheF6T4b"
   },
   "outputs": [],
   "source": [
    "import cv2\n",
    "import torch\n",
    "import albumentations\n",
    "import albumentations.pytorch\n",
    "\n",
    "from torch.utils.data import Dataset, DataLoader\n",
    "\n",
    "class TrainDataset(Dataset):\n",
    "    def __init__(self, df, transform=None):\n",
    "        self.df = df\n",
    "        self.transform = transform\n",
    "        \n",
    "    def __getitem__(self, idx):\n",
    "        img_path = self.df.iloc[idx]['image_id']\n",
    "        image = cv2.imread(img_path, cv2.COLOR_BGR2RGB)\n",
    "\n",
    "        if self.transform:\n",
    "          image = self.transform(image=image)['image']\n",
    "        return image\n",
    "\n",
    "    def __len__(self):\n",
    "        return len(self.df)"
   ]
  },
  {
   "cell_type": "code",
   "execution_count": 10,
   "metadata": {
    "colab": {
     "base_uri": "https://localhost:8080/",
     "height": 226
    },
    "executionInfo": {
     "elapsed": 275,
     "status": "error",
     "timestamp": 1621735640897,
     "user": {
      "displayName": "김효진",
      "photoUrl": "",
      "userId": "06712056052855259710"
     },
     "user_tz": -540
    },
    "id": "FcFvfRPS8Je6",
    "outputId": "da31066e-2e79-4c39-a41b-ce1496cbdbeb"
   },
   "outputs": [],
   "source": [
    "transform = albumentations.Compose([\n",
    "  albumentations.Resize(height=227, width=227),\n",
    "  albumentations.Normalize(mean=(0, 0, 0), std=(1, 1, 1)),\n",
    "  albumentations.pytorch.transforms.ToTensorV2()\n",
    "])"
   ]
  },
  {
   "cell_type": "code",
   "execution_count": 11,
   "metadata": {
    "executionInfo": {
     "elapsed": 258,
     "status": "ok",
     "timestamp": 1621735559803,
     "user": {
      "displayName": "김효진",
      "photoUrl": "",
      "userId": "06712056052855259710"
     },
     "user_tz": -540
    },
    "id": "Z7McyI1P8ScE"
   },
   "outputs": [],
   "source": [
    "image_dataset = TrainDataset(df=train_df, transform=transform)\n",
    "image_loader = DataLoader(image_dataset, \n",
    "                          batch_size  = 1, \n",
    "                          shuffle     = False)"
   ]
  },
  {
   "cell_type": "code",
   "execution_count": 12,
   "metadata": {
    "executionInfo": {
     "elapsed": 252,
     "status": "ok",
     "timestamp": 1621735561640,
     "user": {
      "displayName": "김효진",
      "photoUrl": "",
      "userId": "06712056052855259710"
     },
     "user_tz": -540
    },
    "id": "RBdBQj7I9t3m"
   },
   "outputs": [],
   "source": [
    "psum    = torch.tensor([0.0, 0.0, 0.0])\n",
    "psum_sq = torch.tensor([0.0, 0.0, 0.0])"
   ]
  },
  {
   "cell_type": "code",
   "execution_count": 13,
   "metadata": {
    "colab": {
     "base_uri": "https://localhost:8080/"
    },
    "executionInfo": {
     "elapsed": 13112,
     "status": "ok",
     "timestamp": 1621735575905,
     "user": {
      "displayName": "김효진",
      "photoUrl": "",
      "userId": "06712056052855259710"
     },
     "user_tz": -540
    },
    "id": "cVEsUlyW97J9",
    "outputId": "4ef68a68-08c8-4495-8590-2b5cecf01837"
   },
   "outputs": [
    {
     "name": "stderr",
     "output_type": "stream",
     "text": [
      "100%|█████████████████████████████████████████████████████████████████████████████████████████████████████████████████| 1698/1698 [00:05<00:00, 332.10it/s]\n"
     ]
    }
   ],
   "source": [
    "from tqdm import tqdm\n",
    "\n",
    "for inputs in tqdm(image_loader):\n",
    "    psum    += inputs.sum(axis        = [0, 2, 3])\n",
    "    psum_sq += (inputs ** 2).sum(axis = [0, 2, 3])"
   ]
  },
  {
   "cell_type": "code",
   "execution_count": 14,
   "metadata": {
    "colab": {
     "base_uri": "https://localhost:8080/"
    },
    "executionInfo": {
     "elapsed": 254,
     "status": "ok",
     "timestamp": 1621735577479,
     "user": {
      "displayName": "김효진",
      "photoUrl": "",
      "userId": "06712056052855259710"
     },
     "user_tz": -540
    },
    "id": "9MajXDBf-BRL",
    "outputId": "a8f46576-f639-448c-bddf-ce18c30ca06b"
   },
   "outputs": [
    {
     "name": "stdout",
     "output_type": "stream",
     "text": [
      "mean: tensor([0.4569, 0.5074, 0.5557])\n",
      "std:  tensor([0.2888, 0.2743, 0.2829])\n"
     ]
    }
   ],
   "source": [
    "# Caculate mean and std\n",
    "\n",
    "# pixel count\n",
    "count = len(train_df) * 227 * 227\n",
    "\n",
    "# mean and std\n",
    "total_mean = psum / count\n",
    "total_var  = (psum_sq / count) - (total_mean ** 2)\n",
    "total_std  = torch.sqrt(total_var)\n",
    "\n",
    "# output\n",
    "print('mean: '  + str(total_mean))\n",
    "print('std:  '  + str(total_std))"
   ]
  },
  {
   "cell_type": "code",
   "execution_count": 15,
   "metadata": {},
   "outputs": [
    {
     "name": "stderr",
     "output_type": "stream",
     "text": [
      "C:\\Users\\KHJ\\Anaconda3\\envs\\ustage\\lib\\site-packages\\seaborn\\_decorators.py:36: FutureWarning: Pass the following variable as a keyword arg: x. From version 0.12, the only valid positional argument will be `data`, and passing other arguments without an explicit keyword will result in an error or misinterpretation.\n",
      "  warnings.warn(\n"
     ]
    },
    {
     "data": {
      "image/png": "[encoded data removed]",
      "text/plain": [
       "<Figure size 432x288 with 1 Axes>"
      ]
     },
     "metadata": {
      "needs_background": "light"
     },
     "output_type": "display_data"
    }
   ],
   "source": [
    "import matplotlib as pyplot\n",
    "import seaborn as sns\n",
    "\n",
    "ax = sns.countplot(train_df['label'])\n",
    "\n",
    "for p, label in zip(ax.patches, label_list):\n",
    "    ax.annotate(label, (p.get_x(), p.get_height() + 0.15))"
   ]
  }
 ],
 "metadata": {
  "colab": {
   "authorship_tag": "ABX9TyNHgfiaLWAfJXDLoBnx7ayu",
   "collapsed_sections": [],
   "name": "eda.ipynb",
   "provenance": [],
   "toc_visible": true
  },
  "kernelspec": {
   "display_name": "Python 3",
   "language": "python",
   "name": "python3"
  },
  "language_info": {
   "codemirror_mode": {
    "name": "ipython",
    "version": 3
   },
   "file_extension": ".py",
   "mimetype": "text/x-python",
   "name": "python",
   "nbconvert_exporter": "python",
   "pygments_lexer": "ipython3",
   "version": "3.9.1"
  }
 },
 "nbformat": 4,
 "nbformat_minor": 4
}
